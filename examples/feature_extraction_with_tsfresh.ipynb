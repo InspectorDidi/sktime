{
 "cells": [
  {
   "cell_type": "markdown",
   "metadata": {},
   "source": [
    "# Feature extraction with tsfresh transformer\n",
    "\n",
    "In this tutorial, we show how you can use sktime with [tsfresh](https://tsfresh.readthedocs.io) to first extract features from time series, so that we can then use any scikit-learn estimator.\n",
    "\n",
    "## Preliminaries\n",
    "You have to install tsfresh if you haven't already. To install it, uncomment the cell below:"
   ]
  },
  {
   "cell_type": "code",
   "execution_count": 1,
   "metadata": {},
   "outputs": [],
   "source": [
    "# !pip install --upgrade tsfresh"
   ]
  },
  {
   "cell_type": "code",
   "execution_count": 2,
   "metadata": {},
   "outputs": [],
   "source": [
    "import numpy as np\n",
    "from sklearn.model_selection import train_test_split\n",
    "from sklearn.ensemble import RandomForestClassifier\n",
    "from sklearn.pipeline import make_pipeline\n",
    "from sktime.datasets import load_basic_motions\n",
    "from sktime.datasets import load_arrow_head\n",
    "from sktime.transformers.series_as_features.summarize import \\\n",
    "    TSFreshFeatureExtractor"
   ]
  },
  {
   "cell_type": "markdown",
   "metadata": {},
   "source": [
    "## Univariate time series classification data\n",
    "\n",
    "For more details on the data set, see the [univariate time series classification notebook](https://github.com/alan-turing-institute/sktime/blob/master/examples/02_classification_univariate.ipynb)."
   ]
  },
  {
   "cell_type": "code",
   "execution_count": 3,
   "metadata": {},
   "outputs": [
    {
     "name": "stdout",
     "output_type": "stream",
     "text": [
      "(158, 1) (158,) (53, 1) (53,)\n"
     ]
    }
   ],
   "source": [
    "X, y = load_arrow_head(return_X_y=True)\n",
    "X_train, X_test, y_train, y_test = train_test_split(X, y)\n",
    "print(X_train.shape, y_train.shape, X_test.shape, y_test.shape)"
   ]
  },
  {
   "cell_type": "code",
   "execution_count": 4,
   "metadata": {
    "jupyter": {
     "outputs_hidden": false
    },
    "pycharm": {
     "name": "#%%\n"
    }
   },
   "outputs": [
    {
     "data": {
      "text/html": [
       "<div>\n",
       "<style scoped>\n",
       "    .dataframe tbody tr th:only-of-type {\n",
       "        vertical-align: middle;\n",
       "    }\n",
       "\n",
       "    .dataframe tbody tr th {\n",
       "        vertical-align: top;\n",
       "    }\n",
       "\n",
       "    .dataframe thead th {\n",
       "        text-align: right;\n",
       "    }\n",
       "</style>\n",
       "<table border=\"1\" class=\"dataframe\">\n",
       "  <thead>\n",
       "    <tr style=\"text-align: right;\">\n",
       "      <th></th>\n",
       "      <th>dim_0</th>\n",
       "    </tr>\n",
       "  </thead>\n",
       "  <tbody>\n",
       "    <tr>\n",
       "      <th>18</th>\n",
       "      <td>0     -1.9501\n",
       "1     -1.9645\n",
       "2     -1.9495\n",
       "3   ...</td>\n",
       "    </tr>\n",
       "    <tr>\n",
       "      <th>17</th>\n",
       "      <td>0     -1.6537\n",
       "1     -1.6510\n",
       "2     -1.6319\n",
       "3   ...</td>\n",
       "    </tr>\n",
       "    <tr>\n",
       "      <th>9</th>\n",
       "      <td>0     -1.4921\n",
       "1     -1.4536\n",
       "2     -1.4228\n",
       "3   ...</td>\n",
       "    </tr>\n",
       "    <tr>\n",
       "      <th>13</th>\n",
       "      <td>0     -2.1395\n",
       "1     -2.1189\n",
       "2     -2.1044\n",
       "3   ...</td>\n",
       "    </tr>\n",
       "    <tr>\n",
       "      <th>62</th>\n",
       "      <td>0     -1.9471\n",
       "1     -1.9405\n",
       "2     -1.9224\n",
       "3   ...</td>\n",
       "    </tr>\n",
       "  </tbody>\n",
       "</table>\n",
       "</div>"
      ],
      "text/plain": [
       "                                                dim_0\n",
       "18  0     -1.9501\n",
       "1     -1.9645\n",
       "2     -1.9495\n",
       "3   ...\n",
       "17  0     -1.6537\n",
       "1     -1.6510\n",
       "2     -1.6319\n",
       "3   ...\n",
       "9   0     -1.4921\n",
       "1     -1.4536\n",
       "2     -1.4228\n",
       "3   ...\n",
       "13  0     -2.1395\n",
       "1     -2.1189\n",
       "2     -2.1044\n",
       "3   ...\n",
       "62  0     -1.9471\n",
       "1     -1.9405\n",
       "2     -1.9224\n",
       "3   ..."
      ]
     },
     "execution_count": 4,
     "metadata": {},
     "output_type": "execute_result"
    }
   ],
   "source": [
    "X_train.head()"
   ]
  },
  {
   "cell_type": "code",
   "execution_count": 5,
   "metadata": {},
   "outputs": [
    {
     "data": {
      "text/plain": [
       "array(['0', '1', '2'], dtype=object)"
      ]
     },
     "execution_count": 5,
     "metadata": {},
     "output_type": "execute_result"
    }
   ],
   "source": [
    "# binary classification task\n",
    "np.unique(y_train)"
   ]
  },
  {
   "cell_type": "markdown",
   "metadata": {},
   "source": [
    "## Using tsfresh to extract features"
   ]
  },
  {
   "cell_type": "code",
   "execution_count": 6,
   "metadata": {},
   "outputs": [
    {
     "name": "stderr",
     "output_type": "stream",
     "text": [
      "/Users/travis/build/alan-turing-institute/sktime/sktime/transformers/series_as_features/summarize/_tsfresh.py:150: UserWarning: Found non-unique index, replaced with unique index.\n",
      "  warn(\"Found non-unique index, replaced with unique index.\")\n"
     ]
    },
    {
     "name": "stderr",
     "output_type": "stream",
     "text": [
      "\r",
      "Feature Extraction:   0%|          | 0/5 [00:00<?, ?it/s]"
     ]
    },
    {
     "name": "stderr",
     "output_type": "stream",
     "text": [
      "\r",
      "Feature Extraction:  20%|██        | 1/5 [00:04<00:18,  4.57s/it]"
     ]
    },
    {
     "name": "stderr",
     "output_type": "stream",
     "text": [
      "\r",
      "Feature Extraction:  40%|████      | 2/5 [00:09<00:13,  4.53s/it]"
     ]
    },
    {
     "name": "stderr",
     "output_type": "stream",
     "text": [
      "\r",
      "Feature Extraction:  60%|██████    | 3/5 [00:13<00:09,  4.51s/it]"
     ]
    },
    {
     "name": "stderr",
     "output_type": "stream",
     "text": [
      "\r",
      "Feature Extraction:  80%|████████  | 4/5 [00:17<00:04,  4.48s/it]"
     ]
    },
    {
     "name": "stderr",
     "output_type": "stream",
     "text": [
      "\r",
      "Feature Extraction: 100%|██████████| 5/5 [00:22<00:00,  4.40s/it]"
     ]
    },
    {
     "name": "stderr",
     "output_type": "stream",
     "text": [
      "\r",
      "Feature Extraction: 100%|██████████| 5/5 [00:22<00:00,  4.42s/it]"
     ]
    },
    {
     "name": "stderr",
     "output_type": "stream",
     "text": [
      "\n"
     ]
    },
    {
     "data": {
      "text/html": [
       "<div>\n",
       "<style scoped>\n",
       "    .dataframe tbody tr th:only-of-type {\n",
       "        vertical-align: middle;\n",
       "    }\n",
       "\n",
       "    .dataframe tbody tr th {\n",
       "        vertical-align: top;\n",
       "    }\n",
       "\n",
       "    .dataframe thead th {\n",
       "        text-align: right;\n",
       "    }\n",
       "</style>\n",
       "<table border=\"1\" class=\"dataframe\">\n",
       "  <thead>\n",
       "    <tr style=\"text-align: right;\">\n",
       "      <th>variable</th>\n",
       "      <th>dim_0__abs_energy</th>\n",
       "      <th>dim_0__absolute_sum_of_changes</th>\n",
       "      <th>dim_0__agg_autocorrelation__f_agg_\"mean\"__maxlag_40</th>\n",
       "      <th>dim_0__agg_autocorrelation__f_agg_\"median\"__maxlag_40</th>\n",
       "      <th>dim_0__agg_autocorrelation__f_agg_\"var\"__maxlag_40</th>\n",
       "      <th>dim_0__agg_linear_trend__attr_\"intercept\"__chunk_len_10__f_agg_\"max\"</th>\n",
       "      <th>dim_0__agg_linear_trend__attr_\"intercept\"__chunk_len_10__f_agg_\"mean\"</th>\n",
       "      <th>dim_0__agg_linear_trend__attr_\"intercept\"__chunk_len_10__f_agg_\"min\"</th>\n",
       "      <th>dim_0__agg_linear_trend__attr_\"intercept\"__chunk_len_10__f_agg_\"var\"</th>\n",
       "      <th>dim_0__agg_linear_trend__attr_\"intercept\"__chunk_len_50__f_agg_\"max\"</th>\n",
       "      <th>...</th>\n",
       "      <th>dim_0__symmetry_looking__r_0.9500000000000001</th>\n",
       "      <th>dim_0__time_reversal_asymmetry_statistic__lag_1</th>\n",
       "      <th>dim_0__time_reversal_asymmetry_statistic__lag_2</th>\n",
       "      <th>dim_0__time_reversal_asymmetry_statistic__lag_3</th>\n",
       "      <th>dim_0__value_count__value_-1</th>\n",
       "      <th>dim_0__value_count__value_0</th>\n",
       "      <th>dim_0__value_count__value_1</th>\n",
       "      <th>dim_0__variance</th>\n",
       "      <th>dim_0__variance_larger_than_standard_deviation</th>\n",
       "      <th>dim_0__variation_coefficient</th>\n",
       "    </tr>\n",
       "  </thead>\n",
       "  <tbody>\n",
       "    <tr>\n",
       "      <th>0</th>\n",
       "      <td>250.000417</td>\n",
       "      <td>87.342758</td>\n",
       "      <td>0.205766</td>\n",
       "      <td>0.223395</td>\n",
       "      <td>0.098595</td>\n",
       "      <td>-0.170609</td>\n",
       "      <td>-0.461739</td>\n",
       "      <td>-1.268942</td>\n",
       "      <td>0.126348</td>\n",
       "      <td>0.803620</td>\n",
       "      <td>...</td>\n",
       "      <td>1.0</td>\n",
       "      <td>0.067745</td>\n",
       "      <td>0.018134</td>\n",
       "      <td>-0.001870</td>\n",
       "      <td>0.0</td>\n",
       "      <td>0.0</td>\n",
       "      <td>0.0</td>\n",
       "      <td>0.996018</td>\n",
       "      <td>0.0</td>\n",
       "      <td>5.154315e+05</td>\n",
       "    </tr>\n",
       "    <tr>\n",
       "      <th>1</th>\n",
       "      <td>249.999406</td>\n",
       "      <td>76.562689</td>\n",
       "      <td>0.367765</td>\n",
       "      <td>0.423947</td>\n",
       "      <td>0.082711</td>\n",
       "      <td>-0.311368</td>\n",
       "      <td>-0.688561</td>\n",
       "      <td>-1.204716</td>\n",
       "      <td>0.098933</td>\n",
       "      <td>0.698685</td>\n",
       "      <td>...</td>\n",
       "      <td>1.0</td>\n",
       "      <td>0.035214</td>\n",
       "      <td>0.005789</td>\n",
       "      <td>-0.008803</td>\n",
       "      <td>0.0</td>\n",
       "      <td>0.0</td>\n",
       "      <td>0.0</td>\n",
       "      <td>0.996014</td>\n",
       "      <td>0.0</td>\n",
       "      <td>-3.195143e+05</td>\n",
       "    </tr>\n",
       "    <tr>\n",
       "      <th>2</th>\n",
       "      <td>250.001518</td>\n",
       "      <td>68.936816</td>\n",
       "      <td>0.251116</td>\n",
       "      <td>0.330111</td>\n",
       "      <td>0.161590</td>\n",
       "      <td>0.171556</td>\n",
       "      <td>-0.212736</td>\n",
       "      <td>-0.503936</td>\n",
       "      <td>0.049149</td>\n",
       "      <td>1.017120</td>\n",
       "      <td>...</td>\n",
       "      <td>1.0</td>\n",
       "      <td>0.012871</td>\n",
       "      <td>-0.010108</td>\n",
       "      <td>-0.018167</td>\n",
       "      <td>0.0</td>\n",
       "      <td>0.0</td>\n",
       "      <td>0.0</td>\n",
       "      <td>0.996022</td>\n",
       "      <td>0.0</td>\n",
       "      <td>-3.976195e+06</td>\n",
       "    </tr>\n",
       "    <tr>\n",
       "      <th>3</th>\n",
       "      <td>249.999228</td>\n",
       "      <td>82.949022</td>\n",
       "      <td>0.138073</td>\n",
       "      <td>0.088238</td>\n",
       "      <td>0.096341</td>\n",
       "      <td>0.200089</td>\n",
       "      <td>-0.231736</td>\n",
       "      <td>-0.835281</td>\n",
       "      <td>0.102181</td>\n",
       "      <td>1.059081</td>\n",
       "      <td>...</td>\n",
       "      <td>1.0</td>\n",
       "      <td>0.045324</td>\n",
       "      <td>-0.010596</td>\n",
       "      <td>-0.035836</td>\n",
       "      <td>0.0</td>\n",
       "      <td>0.0</td>\n",
       "      <td>0.0</td>\n",
       "      <td>0.996013</td>\n",
       "      <td>0.0</td>\n",
       "      <td>-3.131239e+07</td>\n",
       "    </tr>\n",
       "    <tr>\n",
       "      <th>4</th>\n",
       "      <td>249.999405</td>\n",
       "      <td>85.201376</td>\n",
       "      <td>0.193592</td>\n",
       "      <td>0.230073</td>\n",
       "      <td>0.111014</td>\n",
       "      <td>-0.149566</td>\n",
       "      <td>-0.412193</td>\n",
       "      <td>-1.162203</td>\n",
       "      <td>0.120004</td>\n",
       "      <td>0.839482</td>\n",
       "      <td>...</td>\n",
       "      <td>1.0</td>\n",
       "      <td>0.060527</td>\n",
       "      <td>0.009508</td>\n",
       "      <td>-0.009285</td>\n",
       "      <td>0.0</td>\n",
       "      <td>0.0</td>\n",
       "      <td>0.0</td>\n",
       "      <td>0.996014</td>\n",
       "      <td>0.0</td>\n",
       "      <td>8.213089e+05</td>\n",
       "    </tr>\n",
       "  </tbody>\n",
       "</table>\n",
       "<p>5 rows × 757 columns</p>\n",
       "</div>"
      ],
      "text/plain": [
       "variable  dim_0__abs_energy  dim_0__absolute_sum_of_changes  \\\n",
       "0                250.000417                       87.342758   \n",
       "1                249.999406                       76.562689   \n",
       "2                250.001518                       68.936816   \n",
       "3                249.999228                       82.949022   \n",
       "4                249.999405                       85.201376   \n",
       "\n",
       "variable  dim_0__agg_autocorrelation__f_agg_\"mean\"__maxlag_40  \\\n",
       "0                                                  0.205766     \n",
       "1                                                  0.367765     \n",
       "2                                                  0.251116     \n",
       "3                                                  0.138073     \n",
       "4                                                  0.193592     \n",
       "\n",
       "variable  dim_0__agg_autocorrelation__f_agg_\"median\"__maxlag_40  \\\n",
       "0                                                  0.223395       \n",
       "1                                                  0.423947       \n",
       "2                                                  0.330111       \n",
       "3                                                  0.088238       \n",
       "4                                                  0.230073       \n",
       "\n",
       "variable  dim_0__agg_autocorrelation__f_agg_\"var\"__maxlag_40  \\\n",
       "0                                                  0.098595    \n",
       "1                                                  0.082711    \n",
       "2                                                  0.161590    \n",
       "3                                                  0.096341    \n",
       "4                                                  0.111014    \n",
       "\n",
       "variable  dim_0__agg_linear_trend__attr_\"intercept\"__chunk_len_10__f_agg_\"max\"  \\\n",
       "0                                                 -0.170609                      \n",
       "1                                                 -0.311368                      \n",
       "2                                                  0.171556                      \n",
       "3                                                  0.200089                      \n",
       "4                                                 -0.149566                      \n",
       "\n",
       "variable  dim_0__agg_linear_trend__attr_\"intercept\"__chunk_len_10__f_agg_\"mean\"  \\\n",
       "0                                                 -0.461739                       \n",
       "1                                                 -0.688561                       \n",
       "2                                                 -0.212736                       \n",
       "3                                                 -0.231736                       \n",
       "4                                                 -0.412193                       \n",
       "\n",
       "variable  dim_0__agg_linear_trend__attr_\"intercept\"__chunk_len_10__f_agg_\"min\"  \\\n",
       "0                                                 -1.268942                      \n",
       "1                                                 -1.204716                      \n",
       "2                                                 -0.503936                      \n",
       "3                                                 -0.835281                      \n",
       "4                                                 -1.162203                      \n",
       "\n",
       "variable  dim_0__agg_linear_trend__attr_\"intercept\"__chunk_len_10__f_agg_\"var\"  \\\n",
       "0                                                  0.126348                      \n",
       "1                                                  0.098933                      \n",
       "2                                                  0.049149                      \n",
       "3                                                  0.102181                      \n",
       "4                                                  0.120004                      \n",
       "\n",
       "variable  dim_0__agg_linear_trend__attr_\"intercept\"__chunk_len_50__f_agg_\"max\"  \\\n",
       "0                                                  0.803620                      \n",
       "1                                                  0.698685                      \n",
       "2                                                  1.017120                      \n",
       "3                                                  1.059081                      \n",
       "4                                                  0.839482                      \n",
       "\n",
       "variable  ...  dim_0__symmetry_looking__r_0.9500000000000001  \\\n",
       "0         ...                                            1.0   \n",
       "1         ...                                            1.0   \n",
       "2         ...                                            1.0   \n",
       "3         ...                                            1.0   \n",
       "4         ...                                            1.0   \n",
       "\n",
       "variable  dim_0__time_reversal_asymmetry_statistic__lag_1  \\\n",
       "0                                                0.067745   \n",
       "1                                                0.035214   \n",
       "2                                                0.012871   \n",
       "3                                                0.045324   \n",
       "4                                                0.060527   \n",
       "\n",
       "variable  dim_0__time_reversal_asymmetry_statistic__lag_2  \\\n",
       "0                                                0.018134   \n",
       "1                                                0.005789   \n",
       "2                                               -0.010108   \n",
       "3                                               -0.010596   \n",
       "4                                                0.009508   \n",
       "\n",
       "variable  dim_0__time_reversal_asymmetry_statistic__lag_3  \\\n",
       "0                                               -0.001870   \n",
       "1                                               -0.008803   \n",
       "2                                               -0.018167   \n",
       "3                                               -0.035836   \n",
       "4                                               -0.009285   \n",
       "\n",
       "variable  dim_0__value_count__value_-1  dim_0__value_count__value_0  \\\n",
       "0                                  0.0                          0.0   \n",
       "1                                  0.0                          0.0   \n",
       "2                                  0.0                          0.0   \n",
       "3                                  0.0                          0.0   \n",
       "4                                  0.0                          0.0   \n",
       "\n",
       "variable  dim_0__value_count__value_1  dim_0__variance  \\\n",
       "0                                 0.0         0.996018   \n",
       "1                                 0.0         0.996014   \n",
       "2                                 0.0         0.996022   \n",
       "3                                 0.0         0.996013   \n",
       "4                                 0.0         0.996014   \n",
       "\n",
       "variable  dim_0__variance_larger_than_standard_deviation  \\\n",
       "0                                                    0.0   \n",
       "1                                                    0.0   \n",
       "2                                                    0.0   \n",
       "3                                                    0.0   \n",
       "4                                                    0.0   \n",
       "\n",
       "variable  dim_0__variation_coefficient  \n",
       "0                         5.154315e+05  \n",
       "1                        -3.195143e+05  \n",
       "2                        -3.976195e+06  \n",
       "3                        -3.131239e+07  \n",
       "4                         8.213089e+05  \n",
       "\n",
       "[5 rows x 757 columns]"
      ]
     },
     "execution_count": 6,
     "metadata": {},
     "output_type": "execute_result"
    }
   ],
   "source": [
    "# tf = TsFreshTransfomer()\n",
    "t = TSFreshFeatureExtractor(default_fc_parameters=\"efficient\", show_warnings=False)\n",
    "Xt = t.fit_transform(X_train)\n",
    "Xt.head()"
   ]
  },
  {
   "cell_type": "markdown",
   "metadata": {},
   "source": [
    "## Using tsfresh with sktime"
   ]
  },
  {
   "cell_type": "code",
   "execution_count": 7,
   "metadata": {},
   "outputs": [
    {
     "name": "stderr",
     "output_type": "stream",
     "text": [
      "/Users/travis/build/alan-turing-institute/sktime/sktime/transformers/series_as_features/summarize/_tsfresh.py:150: UserWarning: Found non-unique index, replaced with unique index.\n",
      "  warn(\"Found non-unique index, replaced with unique index.\")\n"
     ]
    },
    {
     "name": "stderr",
     "output_type": "stream",
     "text": [
      "\r",
      "Feature Extraction:   0%|          | 0/5 [00:00<?, ?it/s]"
     ]
    },
    {
     "name": "stderr",
     "output_type": "stream",
     "text": [
      "\r",
      "Feature Extraction:  20%|██        | 1/5 [00:04<00:18,  4.57s/it]"
     ]
    },
    {
     "name": "stderr",
     "output_type": "stream",
     "text": [
      "\r",
      "Feature Extraction:  40%|████      | 2/5 [00:09<00:13,  4.53s/it]"
     ]
    },
    {
     "name": "stderr",
     "output_type": "stream",
     "text": [
      "\r",
      "Feature Extraction:  60%|██████    | 3/5 [00:13<00:09,  4.50s/it]"
     ]
    },
    {
     "name": "stderr",
     "output_type": "stream",
     "text": [
      "\r",
      "Feature Extraction:  80%|████████  | 4/5 [00:17<00:04,  4.47s/it]"
     ]
    },
    {
     "name": "stderr",
     "output_type": "stream",
     "text": [
      "\r",
      "Feature Extraction: 100%|██████████| 5/5 [00:21<00:00,  4.36s/it]"
     ]
    },
    {
     "name": "stderr",
     "output_type": "stream",
     "text": [
      "\r",
      "Feature Extraction: 100%|██████████| 5/5 [00:21<00:00,  4.39s/it]"
     ]
    },
    {
     "name": "stderr",
     "output_type": "stream",
     "text": [
      "\n"
     ]
    },
    {
     "name": "stderr",
     "output_type": "stream",
     "text": [
      "/Users/travis/build/alan-turing-institute/sktime/sktime/transformers/series_as_features/summarize/_tsfresh.py:150: UserWarning: Found non-unique index, replaced with unique index.\n",
      "  warn(\"Found non-unique index, replaced with unique index.\")\n"
     ]
    },
    {
     "name": "stderr",
     "output_type": "stream",
     "text": [
      "\r",
      "Feature Extraction:   0%|          | 0/5 [00:00<?, ?it/s]"
     ]
    },
    {
     "name": "stderr",
     "output_type": "stream",
     "text": [
      "\r",
      "Feature Extraction:  20%|██        | 1/5 [00:01<00:06,  1.60s/it]"
     ]
    },
    {
     "name": "stderr",
     "output_type": "stream",
     "text": [
      "\r",
      "Feature Extraction:  40%|████      | 2/5 [00:03<00:04,  1.58s/it]"
     ]
    },
    {
     "name": "stderr",
     "output_type": "stream",
     "text": [
      "\r",
      "Feature Extraction:  60%|██████    | 3/5 [00:04<00:03,  1.57s/it]"
     ]
    },
    {
     "name": "stderr",
     "output_type": "stream",
     "text": [
      "\r",
      "Feature Extraction:  80%|████████  | 4/5 [00:06<00:01,  1.57s/it]"
     ]
    },
    {
     "name": "stderr",
     "output_type": "stream",
     "text": [
      "\r",
      "Feature Extraction: 100%|██████████| 5/5 [00:07<00:00,  1.47s/it]"
     ]
    },
    {
     "name": "stderr",
     "output_type": "stream",
     "text": [
      "\r",
      "Feature Extraction: 100%|██████████| 5/5 [00:07<00:00,  1.50s/it]"
     ]
    },
    {
     "name": "stderr",
     "output_type": "stream",
     "text": [
      "\n"
     ]
    },
    {
     "data": {
      "text/plain": [
       "0.9245283018867925"
      ]
     },
     "execution_count": 7,
     "metadata": {},
     "output_type": "execute_result"
    }
   ],
   "source": [
    "classifier = make_pipeline(\n",
    "    TSFreshFeatureExtractor(default_fc_parameters=\"efficient\", show_warnings=False),\n",
    "    RandomForestClassifier()\n",
    ")\n",
    "classifier.fit(X_train, y_train)\n",
    "classifier.score(X_test, y_test)"
   ]
  },
  {
   "cell_type": "markdown",
   "metadata": {},
   "source": [
    "## Multivariate time series classification data"
   ]
  },
  {
   "cell_type": "code",
   "execution_count": 8,
   "metadata": {
    "scrolled": true
   },
   "outputs": [
    {
     "name": "stdout",
     "output_type": "stream",
     "text": [
      "(60, 6) (60,) (20, 6) (20,)\n"
     ]
    }
   ],
   "source": [
    "X, y = load_basic_motions(return_X_y=True)\n",
    "X_train, X_test, y_train, y_test = train_test_split(X, y)\n",
    "print(X_train.shape, y_train.shape, X_test.shape, y_test.shape)"
   ]
  },
  {
   "cell_type": "code",
   "execution_count": 9,
   "metadata": {
    "jupyter": {
     "outputs_hidden": false
    },
    "pycharm": {
     "name": "#%%\n"
    }
   },
   "outputs": [
    {
     "data": {
      "text/html": [
       "<div>\n",
       "<style scoped>\n",
       "    .dataframe tbody tr th:only-of-type {\n",
       "        vertical-align: middle;\n",
       "    }\n",
       "\n",
       "    .dataframe tbody tr th {\n",
       "        vertical-align: top;\n",
       "    }\n",
       "\n",
       "    .dataframe thead th {\n",
       "        text-align: right;\n",
       "    }\n",
       "</style>\n",
       "<table border=\"1\" class=\"dataframe\">\n",
       "  <thead>\n",
       "    <tr style=\"text-align: right;\">\n",
       "      <th></th>\n",
       "      <th>dim_0</th>\n",
       "      <th>dim_1</th>\n",
       "      <th>dim_2</th>\n",
       "      <th>dim_3</th>\n",
       "      <th>dim_4</th>\n",
       "      <th>dim_5</th>\n",
       "    </tr>\n",
       "  </thead>\n",
       "  <tbody>\n",
       "    <tr>\n",
       "      <th>36</th>\n",
       "      <td>0    -1.801504\n",
       "1    -1.801504\n",
       "2    -0.480725\n",
       "3...</td>\n",
       "      <td>0     2.344990\n",
       "1     2.344990\n",
       "2    -0.994385\n",
       "3...</td>\n",
       "      <td>0     0.281253\n",
       "1     0.281253\n",
       "2     0.378807\n",
       "3...</td>\n",
       "      <td>0     0.716447\n",
       "1     0.716447\n",
       "2    -0.870923\n",
       "3...</td>\n",
       "      <td>0     0.162466\n",
       "1     0.162466\n",
       "2     0.095881\n",
       "3...</td>\n",
       "      <td>0     0.921527\n",
       "1     0.921527\n",
       "2    -0.474080\n",
       "3...</td>\n",
       "    </tr>\n",
       "    <tr>\n",
       "      <th>33</th>\n",
       "      <td>0    -2.488524\n",
       "1    -2.488524\n",
       "2    -3.298341\n",
       "3...</td>\n",
       "      <td>0     0.360353\n",
       "1     0.360353\n",
       "2    -4.123512\n",
       "3...</td>\n",
       "      <td>0     0.362847\n",
       "1     0.362847\n",
       "2     1.901927\n",
       "3...</td>\n",
       "      <td>0     0.007990\n",
       "1     0.007990\n",
       "2    -0.234377\n",
       "3...</td>\n",
       "      <td>0    -0.093218\n",
       "1    -0.093218\n",
       "2     0.346238\n",
       "3...</td>\n",
       "      <td>0     0.844289\n",
       "1     0.844289\n",
       "2     0.439456\n",
       "3...</td>\n",
       "    </tr>\n",
       "    <tr>\n",
       "      <th>12</th>\n",
       "      <td>0      2.221946\n",
       "1      2.221946\n",
       "2     -7.70417...</td>\n",
       "      <td>0     -0.783638\n",
       "1     -0.783638\n",
       "2     -4.56992...</td>\n",
       "      <td>0     0.142401\n",
       "1     0.142401\n",
       "2     2.447367\n",
       "3...</td>\n",
       "      <td>0     0.055931\n",
       "1     0.055931\n",
       "2    -0.442120\n",
       "3...</td>\n",
       "      <td>0     0.071911\n",
       "1     0.071911\n",
       "2     0.010653\n",
       "3...</td>\n",
       "      <td>0     0.226387\n",
       "1     0.226387\n",
       "2    -1.978886\n",
       "3...</td>\n",
       "    </tr>\n",
       "    <tr>\n",
       "      <th>21</th>\n",
       "      <td>0    -0.171905\n",
       "1    -0.171905\n",
       "2    -0.397472\n",
       "3...</td>\n",
       "      <td>0     0.206276\n",
       "1     0.206276\n",
       "2    -3.217950\n",
       "3...</td>\n",
       "      <td>0    -0.308410\n",
       "1    -0.308410\n",
       "2    -0.035401\n",
       "3...</td>\n",
       "      <td>0    -0.189099\n",
       "1    -0.189099\n",
       "2     0.857606\n",
       "3...</td>\n",
       "      <td>0     0.079901\n",
       "1     0.079901\n",
       "2     0.135832\n",
       "3...</td>\n",
       "      <td>0     0.055931\n",
       "1     0.055931\n",
       "2     0.391516\n",
       "3...</td>\n",
       "    </tr>\n",
       "    <tr>\n",
       "      <th>0</th>\n",
       "      <td>0     -0.740653\n",
       "1     -0.740653\n",
       "2     10.20844...</td>\n",
       "      <td>0     0.756509\n",
       "1     0.756509\n",
       "2    -9.216970\n",
       "3...</td>\n",
       "      <td>0     -0.275809\n",
       "1     -0.275809\n",
       "2    -12.37890...</td>\n",
       "      <td>0     -0.423476\n",
       "1     -0.423476\n",
       "2    -14.69915...</td>\n",
       "      <td>0     0.013317\n",
       "1     0.013317\n",
       "2     4.578337\n",
       "3...</td>\n",
       "      <td>0     0.013317\n",
       "1     0.013317\n",
       "2    -5.055081\n",
       "3...</td>\n",
       "    </tr>\n",
       "  </tbody>\n",
       "</table>\n",
       "</div>"
      ],
      "text/plain": [
       "                                                dim_0  \\\n",
       "36  0    -1.801504\n",
       "1    -1.801504\n",
       "2    -0.480725\n",
       "3...   \n",
       "33  0    -2.488524\n",
       "1    -2.488524\n",
       "2    -3.298341\n",
       "3...   \n",
       "12  0      2.221946\n",
       "1      2.221946\n",
       "2     -7.70417...   \n",
       "21  0    -0.171905\n",
       "1    -0.171905\n",
       "2    -0.397472\n",
       "3...   \n",
       "0   0     -0.740653\n",
       "1     -0.740653\n",
       "2     10.20844...   \n",
       "\n",
       "                                                dim_1  \\\n",
       "36  0     2.344990\n",
       "1     2.344990\n",
       "2    -0.994385\n",
       "3...   \n",
       "33  0     0.360353\n",
       "1     0.360353\n",
       "2    -4.123512\n",
       "3...   \n",
       "12  0     -0.783638\n",
       "1     -0.783638\n",
       "2     -4.56992...   \n",
       "21  0     0.206276\n",
       "1     0.206276\n",
       "2    -3.217950\n",
       "3...   \n",
       "0   0     0.756509\n",
       "1     0.756509\n",
       "2    -9.216970\n",
       "3...   \n",
       "\n",
       "                                                dim_2  \\\n",
       "36  0     0.281253\n",
       "1     0.281253\n",
       "2     0.378807\n",
       "3...   \n",
       "33  0     0.362847\n",
       "1     0.362847\n",
       "2     1.901927\n",
       "3...   \n",
       "12  0     0.142401\n",
       "1     0.142401\n",
       "2     2.447367\n",
       "3...   \n",
       "21  0    -0.308410\n",
       "1    -0.308410\n",
       "2    -0.035401\n",
       "3...   \n",
       "0   0     -0.275809\n",
       "1     -0.275809\n",
       "2    -12.37890...   \n",
       "\n",
       "                                                dim_3  \\\n",
       "36  0     0.716447\n",
       "1     0.716447\n",
       "2    -0.870923\n",
       "3...   \n",
       "33  0     0.007990\n",
       "1     0.007990\n",
       "2    -0.234377\n",
       "3...   \n",
       "12  0     0.055931\n",
       "1     0.055931\n",
       "2    -0.442120\n",
       "3...   \n",
       "21  0    -0.189099\n",
       "1    -0.189099\n",
       "2     0.857606\n",
       "3...   \n",
       "0   0     -0.423476\n",
       "1     -0.423476\n",
       "2    -14.69915...   \n",
       "\n",
       "                                                dim_4  \\\n",
       "36  0     0.162466\n",
       "1     0.162466\n",
       "2     0.095881\n",
       "3...   \n",
       "33  0    -0.093218\n",
       "1    -0.093218\n",
       "2     0.346238\n",
       "3...   \n",
       "12  0     0.071911\n",
       "1     0.071911\n",
       "2     0.010653\n",
       "3...   \n",
       "21  0     0.079901\n",
       "1     0.079901\n",
       "2     0.135832\n",
       "3...   \n",
       "0   0     0.013317\n",
       "1     0.013317\n",
       "2     4.578337\n",
       "3...   \n",
       "\n",
       "                                                dim_5  \n",
       "36  0     0.921527\n",
       "1     0.921527\n",
       "2    -0.474080\n",
       "3...  \n",
       "33  0     0.844289\n",
       "1     0.844289\n",
       "2     0.439456\n",
       "3...  \n",
       "12  0     0.226387\n",
       "1     0.226387\n",
       "2    -1.978886\n",
       "3...  \n",
       "21  0     0.055931\n",
       "1     0.055931\n",
       "2     0.391516\n",
       "3...  \n",
       "0   0     0.013317\n",
       "1     0.013317\n",
       "2    -5.055081\n",
       "3...  "
      ]
     },
     "execution_count": 9,
     "metadata": {},
     "output_type": "execute_result"
    }
   ],
   "source": [
    "# multivariate input data\n",
    "X_train.head()"
   ]
  },
  {
   "cell_type": "code",
   "execution_count": 10,
   "metadata": {
    "scrolled": true
   },
   "outputs": [
    {
     "name": "stderr",
     "output_type": "stream",
     "text": [
      "/Users/travis/build/alan-turing-institute/sktime/sktime/transformers/series_as_features/summarize/_tsfresh.py:150: UserWarning: Found non-unique index, replaced with unique index.\n",
      "  warn(\"Found non-unique index, replaced with unique index.\")\n"
     ]
    },
    {
     "name": "stderr",
     "output_type": "stream",
     "text": [
      "\r",
      "Feature Extraction:   0%|          | 0/5 [00:00<?, ?it/s]"
     ]
    },
    {
     "name": "stderr",
     "output_type": "stream",
     "text": [
      "\r",
      "Feature Extraction:  20%|██        | 1/5 [00:07<00:30,  7.73s/it]"
     ]
    },
    {
     "name": "stderr",
     "output_type": "stream",
     "text": [
      "\r",
      "Feature Extraction:  40%|████      | 2/5 [00:15<00:23,  7.74s/it]"
     ]
    },
    {
     "name": "stderr",
     "output_type": "stream",
     "text": [
      "\r",
      "Feature Extraction:  60%|██████    | 3/5 [00:23<00:15,  7.79s/it]"
     ]
    },
    {
     "name": "stderr",
     "output_type": "stream",
     "text": [
      "\r",
      "Feature Extraction:  80%|████████  | 4/5 [00:31<00:07,  7.88s/it]"
     ]
    },
    {
     "name": "stderr",
     "output_type": "stream",
     "text": [
      "\r",
      "Feature Extraction: 100%|██████████| 5/5 [00:39<00:00,  7.90s/it]"
     ]
    },
    {
     "name": "stderr",
     "output_type": "stream",
     "text": [
      "\r",
      "Feature Extraction: 100%|██████████| 5/5 [00:39<00:00,  7.89s/it]"
     ]
    },
    {
     "name": "stderr",
     "output_type": "stream",
     "text": [
      "\n"
     ]
    },
    {
     "data": {
      "text/html": [
       "<div>\n",
       "<style scoped>\n",
       "    .dataframe tbody tr th:only-of-type {\n",
       "        vertical-align: middle;\n",
       "    }\n",
       "\n",
       "    .dataframe tbody tr th {\n",
       "        vertical-align: top;\n",
       "    }\n",
       "\n",
       "    .dataframe thead th {\n",
       "        text-align: right;\n",
       "    }\n",
       "</style>\n",
       "<table border=\"1\" class=\"dataframe\">\n",
       "  <thead>\n",
       "    <tr style=\"text-align: right;\">\n",
       "      <th>variable</th>\n",
       "      <th>dim_0__abs_energy</th>\n",
       "      <th>dim_0__absolute_sum_of_changes</th>\n",
       "      <th>dim_0__agg_autocorrelation__f_agg_\"mean\"__maxlag_40</th>\n",
       "      <th>dim_0__agg_autocorrelation__f_agg_\"median\"__maxlag_40</th>\n",
       "      <th>dim_0__agg_autocorrelation__f_agg_\"var\"__maxlag_40</th>\n",
       "      <th>dim_0__agg_linear_trend__attr_\"intercept\"__chunk_len_10__f_agg_\"max\"</th>\n",
       "      <th>dim_0__agg_linear_trend__attr_\"intercept\"__chunk_len_10__f_agg_\"mean\"</th>\n",
       "      <th>dim_0__agg_linear_trend__attr_\"intercept\"__chunk_len_10__f_agg_\"min\"</th>\n",
       "      <th>dim_0__agg_linear_trend__attr_\"intercept\"__chunk_len_10__f_agg_\"var\"</th>\n",
       "      <th>dim_0__agg_linear_trend__attr_\"intercept\"__chunk_len_50__f_agg_\"max\"</th>\n",
       "      <th>...</th>\n",
       "      <th>dim_5__symmetry_looking__r_0.9500000000000001</th>\n",
       "      <th>dim_5__time_reversal_asymmetry_statistic__lag_1</th>\n",
       "      <th>dim_5__time_reversal_asymmetry_statistic__lag_2</th>\n",
       "      <th>dim_5__time_reversal_asymmetry_statistic__lag_3</th>\n",
       "      <th>dim_5__value_count__value_-1</th>\n",
       "      <th>dim_5__value_count__value_0</th>\n",
       "      <th>dim_5__value_count__value_1</th>\n",
       "      <th>dim_5__variance</th>\n",
       "      <th>dim_5__variance_larger_than_standard_deviation</th>\n",
       "      <th>dim_5__variation_coefficient</th>\n",
       "    </tr>\n",
       "  </thead>\n",
       "  <tbody>\n",
       "    <tr>\n",
       "      <th>0</th>\n",
       "      <td>5716.535296</td>\n",
       "      <td>375.788586</td>\n",
       "      <td>-0.010798</td>\n",
       "      <td>-0.084170</td>\n",
       "      <td>0.054152</td>\n",
       "      <td>19.190912</td>\n",
       "      <td>5.136329</td>\n",
       "      <td>-1.663644</td>\n",
       "      <td>38.880657</td>\n",
       "      <td>28.832684</td>\n",
       "      <td>...</td>\n",
       "      <td>1.0</td>\n",
       "      <td>-22.050941</td>\n",
       "      <td>-18.937862</td>\n",
       "      <td>3.202976</td>\n",
       "      <td>0.0</td>\n",
       "      <td>0.0</td>\n",
       "      <td>0.0</td>\n",
       "      <td>12.342621</td>\n",
       "      <td>1.0</td>\n",
       "      <td>-42.197112</td>\n",
       "    </tr>\n",
       "    <tr>\n",
       "      <th>1</th>\n",
       "      <td>5499.612539</td>\n",
       "      <td>453.956021</td>\n",
       "      <td>-0.015376</td>\n",
       "      <td>-0.100520</td>\n",
       "      <td>0.046386</td>\n",
       "      <td>12.972145</td>\n",
       "      <td>2.155030</td>\n",
       "      <td>-4.856715</td>\n",
       "      <td>40.469936</td>\n",
       "      <td>29.266172</td>\n",
       "      <td>...</td>\n",
       "      <td>1.0</td>\n",
       "      <td>3.943785</td>\n",
       "      <td>74.559369</td>\n",
       "      <td>81.181261</td>\n",
       "      <td>0.0</td>\n",
       "      <td>0.0</td>\n",
       "      <td>0.0</td>\n",
       "      <td>17.355400</td>\n",
       "      <td>1.0</td>\n",
       "      <td>-165.171798</td>\n",
       "    </tr>\n",
       "    <tr>\n",
       "      <th>2</th>\n",
       "      <td>10701.446629</td>\n",
       "      <td>758.995994</td>\n",
       "      <td>-0.001368</td>\n",
       "      <td>-0.138129</td>\n",
       "      <td>0.176665</td>\n",
       "      <td>13.975994</td>\n",
       "      <td>1.681442</td>\n",
       "      <td>-14.370603</td>\n",
       "      <td>98.812450</td>\n",
       "      <td>17.693890</td>\n",
       "      <td>...</td>\n",
       "      <td>1.0</td>\n",
       "      <td>6.485339</td>\n",
       "      <td>24.752491</td>\n",
       "      <td>49.024603</td>\n",
       "      <td>0.0</td>\n",
       "      <td>0.0</td>\n",
       "      <td>0.0</td>\n",
       "      <td>20.123652</td>\n",
       "      <td>1.0</td>\n",
       "      <td>29.251607</td>\n",
       "    </tr>\n",
       "    <tr>\n",
       "      <th>3</th>\n",
       "      <td>535.495127</td>\n",
       "      <td>135.580907</td>\n",
       "      <td>-0.027563</td>\n",
       "      <td>-0.045144</td>\n",
       "      <td>0.078813</td>\n",
       "      <td>4.071817</td>\n",
       "      <td>1.703098</td>\n",
       "      <td>-0.768076</td>\n",
       "      <td>2.699804</td>\n",
       "      <td>5.046151</td>\n",
       "      <td>...</td>\n",
       "      <td>1.0</td>\n",
       "      <td>0.196546</td>\n",
       "      <td>-0.351586</td>\n",
       "      <td>0.113937</td>\n",
       "      <td>0.0</td>\n",
       "      <td>0.0</td>\n",
       "      <td>0.0</td>\n",
       "      <td>3.208048</td>\n",
       "      <td>1.0</td>\n",
       "      <td>59.407542</td>\n",
       "    </tr>\n",
       "    <tr>\n",
       "      <th>4</th>\n",
       "      <td>117.736948</td>\n",
       "      <td>38.507459</td>\n",
       "      <td>-0.001277</td>\n",
       "      <td>-0.009787</td>\n",
       "      <td>0.001696</td>\n",
       "      <td>3.781140</td>\n",
       "      <td>0.250217</td>\n",
       "      <td>-0.449319</td>\n",
       "      <td>3.065430</td>\n",
       "      <td>10.208449</td>\n",
       "      <td>...</td>\n",
       "      <td>1.0</td>\n",
       "      <td>0.005487</td>\n",
       "      <td>0.008960</td>\n",
       "      <td>0.018841</td>\n",
       "      <td>0.0</td>\n",
       "      <td>8.0</td>\n",
       "      <td>0.0</td>\n",
       "      <td>0.287096</td>\n",
       "      <td>0.0</td>\n",
       "      <td>-11.170363</td>\n",
       "    </tr>\n",
       "  </tbody>\n",
       "</table>\n",
       "<p>5 rows × 4542 columns</p>\n",
       "</div>"
      ],
      "text/plain": [
       "variable  dim_0__abs_energy  dim_0__absolute_sum_of_changes  \\\n",
       "0               5716.535296                      375.788586   \n",
       "1               5499.612539                      453.956021   \n",
       "2              10701.446629                      758.995994   \n",
       "3                535.495127                      135.580907   \n",
       "4                117.736948                       38.507459   \n",
       "\n",
       "variable  dim_0__agg_autocorrelation__f_agg_\"mean\"__maxlag_40  \\\n",
       "0                                                 -0.010798     \n",
       "1                                                 -0.015376     \n",
       "2                                                 -0.001368     \n",
       "3                                                 -0.027563     \n",
       "4                                                 -0.001277     \n",
       "\n",
       "variable  dim_0__agg_autocorrelation__f_agg_\"median\"__maxlag_40  \\\n",
       "0                                                 -0.084170       \n",
       "1                                                 -0.100520       \n",
       "2                                                 -0.138129       \n",
       "3                                                 -0.045144       \n",
       "4                                                 -0.009787       \n",
       "\n",
       "variable  dim_0__agg_autocorrelation__f_agg_\"var\"__maxlag_40  \\\n",
       "0                                                  0.054152    \n",
       "1                                                  0.046386    \n",
       "2                                                  0.176665    \n",
       "3                                                  0.078813    \n",
       "4                                                  0.001696    \n",
       "\n",
       "variable  dim_0__agg_linear_trend__attr_\"intercept\"__chunk_len_10__f_agg_\"max\"  \\\n",
       "0                                                 19.190912                      \n",
       "1                                                 12.972145                      \n",
       "2                                                 13.975994                      \n",
       "3                                                  4.071817                      \n",
       "4                                                  3.781140                      \n",
       "\n",
       "variable  dim_0__agg_linear_trend__attr_\"intercept\"__chunk_len_10__f_agg_\"mean\"  \\\n",
       "0                                                  5.136329                       \n",
       "1                                                  2.155030                       \n",
       "2                                                  1.681442                       \n",
       "3                                                  1.703098                       \n",
       "4                                                  0.250217                       \n",
       "\n",
       "variable  dim_0__agg_linear_trend__attr_\"intercept\"__chunk_len_10__f_agg_\"min\"  \\\n",
       "0                                                 -1.663644                      \n",
       "1                                                 -4.856715                      \n",
       "2                                                -14.370603                      \n",
       "3                                                 -0.768076                      \n",
       "4                                                 -0.449319                      \n",
       "\n",
       "variable  dim_0__agg_linear_trend__attr_\"intercept\"__chunk_len_10__f_agg_\"var\"  \\\n",
       "0                                                 38.880657                      \n",
       "1                                                 40.469936                      \n",
       "2                                                 98.812450                      \n",
       "3                                                  2.699804                      \n",
       "4                                                  3.065430                      \n",
       "\n",
       "variable  dim_0__agg_linear_trend__attr_\"intercept\"__chunk_len_50__f_agg_\"max\"  \\\n",
       "0                                                 28.832684                      \n",
       "1                                                 29.266172                      \n",
       "2                                                 17.693890                      \n",
       "3                                                  5.046151                      \n",
       "4                                                 10.208449                      \n",
       "\n",
       "variable  ...  dim_5__symmetry_looking__r_0.9500000000000001  \\\n",
       "0         ...                                            1.0   \n",
       "1         ...                                            1.0   \n",
       "2         ...                                            1.0   \n",
       "3         ...                                            1.0   \n",
       "4         ...                                            1.0   \n",
       "\n",
       "variable  dim_5__time_reversal_asymmetry_statistic__lag_1  \\\n",
       "0                                              -22.050941   \n",
       "1                                                3.943785   \n",
       "2                                                6.485339   \n",
       "3                                                0.196546   \n",
       "4                                                0.005487   \n",
       "\n",
       "variable  dim_5__time_reversal_asymmetry_statistic__lag_2  \\\n",
       "0                                              -18.937862   \n",
       "1                                               74.559369   \n",
       "2                                               24.752491   \n",
       "3                                               -0.351586   \n",
       "4                                                0.008960   \n",
       "\n",
       "variable  dim_5__time_reversal_asymmetry_statistic__lag_3  \\\n",
       "0                                                3.202976   \n",
       "1                                               81.181261   \n",
       "2                                               49.024603   \n",
       "3                                                0.113937   \n",
       "4                                                0.018841   \n",
       "\n",
       "variable  dim_5__value_count__value_-1  dim_5__value_count__value_0  \\\n",
       "0                                  0.0                          0.0   \n",
       "1                                  0.0                          0.0   \n",
       "2                                  0.0                          0.0   \n",
       "3                                  0.0                          0.0   \n",
       "4                                  0.0                          8.0   \n",
       "\n",
       "variable  dim_5__value_count__value_1  dim_5__variance  \\\n",
       "0                                 0.0        12.342621   \n",
       "1                                 0.0        17.355400   \n",
       "2                                 0.0        20.123652   \n",
       "3                                 0.0         3.208048   \n",
       "4                                 0.0         0.287096   \n",
       "\n",
       "variable  dim_5__variance_larger_than_standard_deviation  \\\n",
       "0                                                    1.0   \n",
       "1                                                    1.0   \n",
       "2                                                    1.0   \n",
       "3                                                    1.0   \n",
       "4                                                    0.0   \n",
       "\n",
       "variable  dim_5__variation_coefficient  \n",
       "0                           -42.197112  \n",
       "1                          -165.171798  \n",
       "2                            29.251607  \n",
       "3                            59.407542  \n",
       "4                           -11.170363  \n",
       "\n",
       "[5 rows x 4542 columns]"
      ]
     },
     "execution_count": 10,
     "metadata": {},
     "output_type": "execute_result"
    }
   ],
   "source": [
    "t = TSFreshFeatureExtractor(default_fc_parameters=\"efficient\", show_warnings=False)\n",
    "Xt = t.fit_transform(X_train)\n",
    "Xt.head()"
   ]
  }
 ],
 "metadata": {
  "kernelspec": {
   "display_name": "Python 3",
   "language": "python",
   "name": "python3"
  },
  "language_info": {
   "codemirror_mode": {
    "name": "ipython",
    "version": 3
   },
   "file_extension": ".py",
   "mimetype": "text/x-python",
   "name": "python",
   "nbconvert_exporter": "python",
   "pygments_lexer": "ipython3",
   "version": "3.7.7"
  }
 },
 "nbformat": 4,
 "nbformat_minor": 4
}
